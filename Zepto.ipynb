{
  "nbformat": 4,
  "nbformat_minor": 0,
  "metadata": {
    "colab": {
      "provenance": [],
      "toc_visible": true
    },
    "kernelspec": {
      "name": "python3",
      "display_name": "Python 3"
    },
    "language_info": {
      "name": "python"
    }
  },
  "cells": [
    {
      "cell_type": "code",
      "execution_count": 1,
      "metadata": {
        "colab": {
          "base_uri": "https://localhost:8080/"
        },
        "id": "EbCdFxeQbu2o",
        "outputId": "658af0d2-23db-4280-834a-94cb7bb66714"
      },
      "outputs": [
        {
          "output_type": "stream",
          "name": "stdout",
          "text": [
            "Drive already mounted at /content/gdrive; to attempt to forcibly remount, call drive.mount(\"/content/gdrive\", force_remount=True).\n"
          ]
        }
      ],
      "source": [
        "from google.colab import drive \n",
        "drive.mount('/content/gdrive')"
      ]
    },
    {
      "cell_type": "code",
      "source": [
        "import numpy as np\n",
        "import matplotlib.pyplot as plt"
      ],
      "metadata": {
        "id": "rYDfraJUk_zp"
      },
      "execution_count": 2,
      "outputs": []
    },
    {
      "cell_type": "code",
      "source": [
        "import pandas as pd \n",
        "df=pd.read_csv('gdrive/My Drive/Interview_Assignments/assignment.csv')"
      ],
      "metadata": {
        "id": "8xy2vVF5gAd6"
      },
      "execution_count": 3,
      "outputs": []
    },
    {
      "cell_type": "code",
      "source": [
        "df.head()"
      ],
      "metadata": {
        "colab": {
          "base_uri": "https://localhost:8080/",
          "height": 204
        },
        "id": "oodb_6GoglIM",
        "outputId": "d2a0b652-c649-493a-c489-5d2c2d7c0b95"
      },
      "execution_count": 4,
      "outputs": [
        {
          "output_type": "execute_result",
          "data": {
            "text/plain": [
              "                                             user_id                timestamp  \\\n",
              "0  f348dcc1ecdd88dd269eabf86dd2dd65e92ca69e841951...  2022-11-07 02:57:17.727   \n",
              "1  815bcad338795606138d9fb381d25f8ebd091259768bfa...  2022-11-07 02:46:43.512   \n",
              "2  a1924cc344555547f1946439d01b6019f2af5498f94783...  2022-11-07 03:10:36.281   \n",
              "3  71ee931ac0da08c5883aecdb1c923fac63000e07a9861e...  2022-11-07 03:03:00.358   \n",
              "4  2036303e0d5b45e631c2307e775cc5e97258403a1f0cd0...  2022-11-07 02:47:25.242   \n",
              "\n",
              "   purchase_value  \n",
              "0          1274.0  \n",
              "1           450.0  \n",
              "2           315.0  \n",
              "3           380.0  \n",
              "4           161.0  "
            ],
            "text/html": [
              "\n",
              "  <div id=\"df-92e91983-958c-4f59-b8f2-c01c0c207d55\">\n",
              "    <div class=\"colab-df-container\">\n",
              "      <div>\n",
              "<style scoped>\n",
              "    .dataframe tbody tr th:only-of-type {\n",
              "        vertical-align: middle;\n",
              "    }\n",
              "\n",
              "    .dataframe tbody tr th {\n",
              "        vertical-align: top;\n",
              "    }\n",
              "\n",
              "    .dataframe thead th {\n",
              "        text-align: right;\n",
              "    }\n",
              "</style>\n",
              "<table border=\"1\" class=\"dataframe\">\n",
              "  <thead>\n",
              "    <tr style=\"text-align: right;\">\n",
              "      <th></th>\n",
              "      <th>user_id</th>\n",
              "      <th>timestamp</th>\n",
              "      <th>purchase_value</th>\n",
              "    </tr>\n",
              "  </thead>\n",
              "  <tbody>\n",
              "    <tr>\n",
              "      <th>0</th>\n",
              "      <td>f348dcc1ecdd88dd269eabf86dd2dd65e92ca69e841951...</td>\n",
              "      <td>2022-11-07 02:57:17.727</td>\n",
              "      <td>1274.0</td>\n",
              "    </tr>\n",
              "    <tr>\n",
              "      <th>1</th>\n",
              "      <td>815bcad338795606138d9fb381d25f8ebd091259768bfa...</td>\n",
              "      <td>2022-11-07 02:46:43.512</td>\n",
              "      <td>450.0</td>\n",
              "    </tr>\n",
              "    <tr>\n",
              "      <th>2</th>\n",
              "      <td>a1924cc344555547f1946439d01b6019f2af5498f94783...</td>\n",
              "      <td>2022-11-07 03:10:36.281</td>\n",
              "      <td>315.0</td>\n",
              "    </tr>\n",
              "    <tr>\n",
              "      <th>3</th>\n",
              "      <td>71ee931ac0da08c5883aecdb1c923fac63000e07a9861e...</td>\n",
              "      <td>2022-11-07 03:03:00.358</td>\n",
              "      <td>380.0</td>\n",
              "    </tr>\n",
              "    <tr>\n",
              "      <th>4</th>\n",
              "      <td>2036303e0d5b45e631c2307e775cc5e97258403a1f0cd0...</td>\n",
              "      <td>2022-11-07 02:47:25.242</td>\n",
              "      <td>161.0</td>\n",
              "    </tr>\n",
              "  </tbody>\n",
              "</table>\n",
              "</div>\n",
              "      <button class=\"colab-df-convert\" onclick=\"convertToInteractive('df-92e91983-958c-4f59-b8f2-c01c0c207d55')\"\n",
              "              title=\"Convert this dataframe to an interactive table.\"\n",
              "              style=\"display:none;\">\n",
              "        \n",
              "  <svg xmlns=\"http://www.w3.org/2000/svg\" height=\"24px\"viewBox=\"0 0 24 24\"\n",
              "       width=\"24px\">\n",
              "    <path d=\"M0 0h24v24H0V0z\" fill=\"none\"/>\n",
              "    <path d=\"M18.56 5.44l.94 2.06.94-2.06 2.06-.94-2.06-.94-.94-2.06-.94 2.06-2.06.94zm-11 1L8.5 8.5l.94-2.06 2.06-.94-2.06-.94L8.5 2.5l-.94 2.06-2.06.94zm10 10l.94 2.06.94-2.06 2.06-.94-2.06-.94-.94-2.06-.94 2.06-2.06.94z\"/><path d=\"M17.41 7.96l-1.37-1.37c-.4-.4-.92-.59-1.43-.59-.52 0-1.04.2-1.43.59L10.3 9.45l-7.72 7.72c-.78.78-.78 2.05 0 2.83L4 21.41c.39.39.9.59 1.41.59.51 0 1.02-.2 1.41-.59l7.78-7.78 2.81-2.81c.8-.78.8-2.07 0-2.86zM5.41 20L4 18.59l7.72-7.72 1.47 1.35L5.41 20z\"/>\n",
              "  </svg>\n",
              "      </button>\n",
              "      \n",
              "  <style>\n",
              "    .colab-df-container {\n",
              "      display:flex;\n",
              "      flex-wrap:wrap;\n",
              "      gap: 12px;\n",
              "    }\n",
              "\n",
              "    .colab-df-convert {\n",
              "      background-color: #E8F0FE;\n",
              "      border: none;\n",
              "      border-radius: 50%;\n",
              "      cursor: pointer;\n",
              "      display: none;\n",
              "      fill: #1967D2;\n",
              "      height: 32px;\n",
              "      padding: 0 0 0 0;\n",
              "      width: 32px;\n",
              "    }\n",
              "\n",
              "    .colab-df-convert:hover {\n",
              "      background-color: #E2EBFA;\n",
              "      box-shadow: 0px 1px 2px rgba(60, 64, 67, 0.3), 0px 1px 3px 1px rgba(60, 64, 67, 0.15);\n",
              "      fill: #174EA6;\n",
              "    }\n",
              "\n",
              "    [theme=dark] .colab-df-convert {\n",
              "      background-color: #3B4455;\n",
              "      fill: #D2E3FC;\n",
              "    }\n",
              "\n",
              "    [theme=dark] .colab-df-convert:hover {\n",
              "      background-color: #434B5C;\n",
              "      box-shadow: 0px 1px 3px 1px rgba(0, 0, 0, 0.15);\n",
              "      filter: drop-shadow(0px 1px 2px rgba(0, 0, 0, 0.3));\n",
              "      fill: #FFFFFF;\n",
              "    }\n",
              "  </style>\n",
              "\n",
              "      <script>\n",
              "        const buttonEl =\n",
              "          document.querySelector('#df-92e91983-958c-4f59-b8f2-c01c0c207d55 button.colab-df-convert');\n",
              "        buttonEl.style.display =\n",
              "          google.colab.kernel.accessAllowed ? 'block' : 'none';\n",
              "\n",
              "        async function convertToInteractive(key) {\n",
              "          const element = document.querySelector('#df-92e91983-958c-4f59-b8f2-c01c0c207d55');\n",
              "          const dataTable =\n",
              "            await google.colab.kernel.invokeFunction('convertToInteractive',\n",
              "                                                     [key], {});\n",
              "          if (!dataTable) return;\n",
              "\n",
              "          const docLinkHtml = 'Like what you see? Visit the ' +\n",
              "            '<a target=\"_blank\" href=https://colab.research.google.com/notebooks/data_table.ipynb>data table notebook</a>'\n",
              "            + ' to learn more about interactive tables.';\n",
              "          element.innerHTML = '';\n",
              "          dataTable['output_type'] = 'display_data';\n",
              "          await google.colab.output.renderOutput(dataTable, element);\n",
              "          const docLink = document.createElement('div');\n",
              "          docLink.innerHTML = docLinkHtml;\n",
              "          element.appendChild(docLink);\n",
              "        }\n",
              "      </script>\n",
              "    </div>\n",
              "  </div>\n",
              "  "
            ]
          },
          "metadata": {},
          "execution_count": 4
        }
      ]
    },
    {
      "cell_type": "markdown",
      "source": [
        "### Business Problems to be tackled with the use of data <br>\n",
        "\n",
        "\n",
        "1.   Predict the customers/users that most likely to churn out of the platform\n",
        "2.   Explore user behaviour patterns and define appropriate segments\n",
        "\n",
        "\n",
        "> Both the problems are correlated, as we need to categorize the users based on their past orders (Whether the user is \"Heavy User\", \"New User\", \"Light User\" etc). For this, firstly we need to observe the distribution of the orders across users, we hope the distribution to have a long-tail i.e. majority of the users will be light users."
      ],
      "metadata": {
        "id": "C2UU9nP-ubMc"
      }
    },
    {
      "cell_type": "code",
      "source": [
        "def order_distribution_across_users(df, title=\"Percentile Distribution of total_orders across users\"):\n",
        "  user_orders = np.array(df.user_id.value_counts().values)\n",
        "  quantiles = [i/10 for i in range(1,11)]\n",
        "  quantile_categories = [str(int(i*100/10)) for i in range(1,11)]\n",
        "  quantile_values = np.quantile(user_orders, quantiles).astype(int)\n",
        "  plt.figure(figsize=(16, 8))\n",
        "  plt.bar(quantile_categories, quantile_values)\n",
        "  for i, v in enumerate(quantile_values):\n",
        "      plt.text(i-0.2, v, str(v))\n",
        "  plt.xlabel('User Percentiles')\n",
        "  plt.ylabel('Orders')\n",
        "  plt.title(title)\n",
        "  plt.show()"
      ],
      "metadata": {
        "id": "HdyqqOOZp_g_"
      },
      "execution_count": 5,
      "outputs": []
    },
    {
      "cell_type": "code",
      "source": [
        "order_distribution_across_users(df)"
      ],
      "metadata": {
        "colab": {
          "base_uri": "https://localhost:8080/",
          "height": 513
        },
        "id": "6zgEpAZM9akT",
        "outputId": "c95f444e-2f50-4f95-bbba-d8f23f4874dc"
      },
      "execution_count": 6,
      "outputs": [
        {
          "output_type": "display_data",
          "data": {
            "text/plain": [
              "<Figure size 1152x576 with 1 Axes>"
            ],
            "image/png": "[encoded data removed]"
          },
          "metadata": {
            "needs_background": "light"
          }
        }
      ]
    },
    {
      "cell_type": "markdown",
      "source": [
        "### Percentile Distribution of total_orders in 4 months across users\n",
        "\n",
        "> As can be seen from the plot above, 80% of the users have order below 12 in the last 4 months. \n",
        "Most of the heavy & active users fall in the top 10 percentile bucket.\n",
        "Broadly we will be dividing the users in 3 buckets\n",
        "\n",
        "\n",
        "1.   Top 10 Percentile bucket - This bucket has users with orders more than 22. These are the most active and heavu users\n",
        "2.   Middle Bucket (80-90 percentile bucket) - This bucket has users with orders less 22 but more than 12\n",
        "3.   Bottom 80 (0-80 percentile bucket) - This bucket has users with order less than 12\n",
        "\n",
        "> After the broad categorization, we will further analyze the weekly pattern of orders for each user, to form a hypothesis for churn prediction. For this, we will calculate the number of orders at weekly level.\n",
        "\n",
        "**Point to be noted** <br>\n",
        "Till now, we have not used \"purchase value\" feature, we are only analyzing number of orders, user has placed\n",
        "\n",
        "\n",
        "\n",
        "\n",
        "\n",
        "\n",
        "\n"
      ],
      "metadata": {
        "id": "DGAsKVYl5g4d"
      }
    },
    {
      "cell_type": "code",
      "source": [
        "## Getting the week for each timestamp to analyse the weekly pattern\n",
        "df[\"week\"] = df.timestamp.apply(lambda x: pd.Timestamp(x).week)\n",
        "## Removing the last week, as it could be incomplete\n",
        "df = df[df[\"week\"]!=df.week.max()].reset_index(drop=True)\n",
        "\n",
        "print(\"Number of weeks in the data : {}\".format(df.week.max()-df.week.min()))\n",
        "print(\"Min Week: {}\".format(df.week.min()))\n",
        "print(\"Max Week: {}\".format(df.week.max()))"
      ],
      "metadata": {
        "colab": {
          "base_uri": "https://localhost:8080/"
        },
        "id": "sO1UWq599VsB",
        "outputId": "f2555162-3749-4a81-fe8b-ecda0b3a2cc4"
      },
      "execution_count": 7,
      "outputs": [
        {
          "output_type": "stream",
          "name": "stdout",
          "text": [
            "Number of weeks in the data : 16\n",
            "Min Week: 33\n",
            "Max Week: 49\n"
          ]
        }
      ]
    },
    {
      "cell_type": "code",
      "source": [
        "## Getting the total orders\n",
        "df_total_orders = df.pivot_table(index = 'user_id', values=['timestamp'], aggfunc='count').reset_index()\n",
        "df_total_orders = df_total_orders.rename({'timestamp': 'total_orders'}, axis=1)\n",
        "df = df.merge(df_total_orders, on='user_id', how='left')\n",
        "\n",
        "## Getting the orders at week-level\n",
        "df_weekly_orders = df.pivot_table(index = ['user_id','week'], values=['timestamp','purchase_value'], \n",
        "                                  aggfunc={'timestamp':'count', 'purchase_value':'sum'}).reset_index()\n",
        "df_weekly_orders = df_weekly_orders.rename({'timestamp': 'weekly_orders', 'purchase_value':'weekly_purchase_value'}, axis=1)\n",
        "df = df.merge(df_weekly_orders, on=['user_id','week'], how='left')"
      ],
      "metadata": {
        "id": "DxI4rdPlpANP"
      },
      "execution_count": 8,
      "outputs": []
    },
    {
      "cell_type": "code",
      "source": [
        "df.sort_values(by=['user_id','week','timestamp'], ascending=True, inplace=True)\n",
        "df"
      ],
      "metadata": {
        "colab": {
          "base_uri": "https://localhost:8080/",
          "height": 419
        },
        "id": "wstmEJdV-y9e",
        "outputId": "ff809ae7-372b-4f36-e58a-bb722b4953be"
      },
      "execution_count": 9,
      "outputs": [
        {
          "output_type": "execute_result",
          "data": {
            "text/plain": [
              "                                                  user_id  \\\n",
              "37427   0000602f168960c53835096f2daad506a80fcef2b4b13a...   \n",
              "25880   0001b82c569a333a80c48f2004827e4a8e5be5840fbd9b...   \n",
              "91426   000700164cee77c05439c206a588b66fe734150ede585f...   \n",
              "82339   000700164cee77c05439c206a588b66fe734150ede585f...   \n",
              "23357   000700164cee77c05439c206a588b66fe734150ede585f...   \n",
              "...                                                   ...   \n",
              "145196  fff3dca643fdb28f6a582b46b9d44279e319296d66bf75...   \n",
              "102662  fff3dca643fdb28f6a582b46b9d44279e319296d66bf75...   \n",
              "107139  fff3dca643fdb28f6a582b46b9d44279e319296d66bf75...   \n",
              "37164   fff3dcdeb160d90148711b4144d009edbafecde079fcc5...   \n",
              "15454   fff8228534eaf9d70eee285014632a38e9567ffd4f38b9...   \n",
              "\n",
              "                      timestamp  purchase_value  week  total_orders  \\\n",
              "37427   2022-11-18 18:04:06.046           132.0    46             1   \n",
              "25880   2022-09-14 13:19:47.121           113.0    37             1   \n",
              "91426   2022-08-22 01:56:48.002           260.0    34            22   \n",
              "82339   2022-08-25 04:00:16.096           135.0    34            22   \n",
              "23357   2022-09-13 13:43:09.296           166.0    37            22   \n",
              "...                         ...             ...   ...           ...   \n",
              "145196  2022-12-02 09:55:45.700           347.0    48            50   \n",
              "102662  2022-12-05 09:05:50.965           347.0    49            50   \n",
              "107139  2022-12-06 07:00:33.518           347.0    49            50   \n",
              "37164   2022-09-18 04:50:24.521            70.0    37             1   \n",
              "15454   2022-11-14 02:02:28.166           158.0    46             1   \n",
              "\n",
              "        weekly_purchase_value  weekly_orders  \n",
              "37427                   132.0              1  \n",
              "25880                   113.0              1  \n",
              "91426                   395.0              2  \n",
              "82339                   395.0              2  \n",
              "23357                   166.0              1  \n",
              "...                       ...            ...  \n",
              "145196                  667.0              2  \n",
              "102662                  694.0              2  \n",
              "107139                  694.0              2  \n",
              "37164                    70.0              1  \n",
              "15454                   158.0              1  \n",
              "\n",
              "[193213 rows x 7 columns]"
            ],
            "text/html": [
              "\n",
              "  <div id=\"df-9f350ce9-4cf0-4e56-8b5e-7f2d8bbdca07\">\n",
              "    <div class=\"colab-df-container\">\n",
              "      <div>\n",
              "<style scoped>\n",
              "    .dataframe tbody tr th:only-of-type {\n",
              "        vertical-align: middle;\n",
              "    }\n",
              "\n",
              "    .dataframe tbody tr th {\n",
              "        vertical-align: top;\n",
              "    }\n",
              "\n",
              "    .dataframe thead th {\n",
              "        text-align: right;\n",
              "    }\n",
              "</style>\n",
              "<table border=\"1\" class=\"dataframe\">\n",
              "  <thead>\n",
              "    <tr style=\"text-align: right;\">\n",
              "      <th></th>\n",
              "      <th>user_id</th>\n",
              "      <th>timestamp</th>\n",
              "      <th>purchase_value</th>\n",
              "      <th>week</th>\n",
              "      <th>total_orders</th>\n",
              "      <th>weekly_purchase_value</th>\n",
              "      <th>weekly_orders</th>\n",
              "    </tr>\n",
              "  </thead>\n",
              "  <tbody>\n",
              "    <tr>\n",
              "      <th>37427</th>\n",
              "      <td>0000602f168960c53835096f2daad506a80fcef2b4b13a...</td>\n",
              "      <td>2022-11-18 18:04:06.046</td>\n",
              "      <td>132.0</td>\n",
              "      <td>46</td>\n",
              "      <td>1</td>\n",
              "      <td>132.0</td>\n",
              "      <td>1</td>\n",
              "    </tr>\n",
              "    <tr>\n",
              "      <th>25880</th>\n",
              "      <td>0001b82c569a333a80c48f2004827e4a8e5be5840fbd9b...</td>\n",
              "      <td>2022-09-14 13:19:47.121</td>\n",
              "      <td>113.0</td>\n",
              "      <td>37</td>\n",
              "      <td>1</td>\n",
              "      <td>113.0</td>\n",
              "      <td>1</td>\n",
              "    </tr>\n",
              "    <tr>\n",
              "      <th>91426</th>\n",
              "      <td>000700164cee77c05439c206a588b66fe734150ede585f...</td>\n",
              "      <td>2022-08-22 01:56:48.002</td>\n",
              "      <td>260.0</td>\n",
              "      <td>34</td>\n",
              "      <td>22</td>\n",
              "      <td>395.0</td>\n",
              "      <td>2</td>\n",
              "    </tr>\n",
              "    <tr>\n",
              "      <th>82339</th>\n",
              "      <td>000700164cee77c05439c206a588b66fe734150ede585f...</td>\n",
              "      <td>2022-08-25 04:00:16.096</td>\n",
              "      <td>135.0</td>\n",
              "      <td>34</td>\n",
              "      <td>22</td>\n",
              "      <td>395.0</td>\n",
              "      <td>2</td>\n",
              "    </tr>\n",
              "    <tr>\n",
              "      <th>23357</th>\n",
              "      <td>000700164cee77c05439c206a588b66fe734150ede585f...</td>\n",
              "      <td>2022-09-13 13:43:09.296</td>\n",
              "      <td>166.0</td>\n",
              "      <td>37</td>\n",
              "      <td>22</td>\n",
              "      <td>166.0</td>\n",
              "      <td>1</td>\n",
              "    </tr>\n",
              "    <tr>\n",
              "      <th>...</th>\n",
              "      <td>...</td>\n",
              "      <td>...</td>\n",
              "      <td>...</td>\n",
              "      <td>...</td>\n",
              "      <td>...</td>\n",
              "      <td>...</td>\n",
              "      <td>...</td>\n",
              "    </tr>\n",
              "    <tr>\n",
              "      <th>145196</th>\n",
              "      <td>fff3dca643fdb28f6a582b46b9d44279e319296d66bf75...</td>\n",
              "      <td>2022-12-02 09:55:45.700</td>\n",
              "      <td>347.0</td>\n",
              "      <td>48</td>\n",
              "      <td>50</td>\n",
              "      <td>667.0</td>\n",
              "      <td>2</td>\n",
              "    </tr>\n",
              "    <tr>\n",
              "      <th>102662</th>\n",
              "      <td>fff3dca643fdb28f6a582b46b9d44279e319296d66bf75...</td>\n",
              "      <td>2022-12-05 09:05:50.965</td>\n",
              "      <td>347.0</td>\n",
              "      <td>49</td>\n",
              "      <td>50</td>\n",
              "      <td>694.0</td>\n",
              "      <td>2</td>\n",
              "    </tr>\n",
              "    <tr>\n",
              "      <th>107139</th>\n",
              "      <td>fff3dca643fdb28f6a582b46b9d44279e319296d66bf75...</td>\n",
              "      <td>2022-12-06 07:00:33.518</td>\n",
              "      <td>347.0</td>\n",
              "      <td>49</td>\n",
              "      <td>50</td>\n",
              "      <td>694.0</td>\n",
              "      <td>2</td>\n",
              "    </tr>\n",
              "    <tr>\n",
              "      <th>37164</th>\n",
              "      <td>fff3dcdeb160d90148711b4144d009edbafecde079fcc5...</td>\n",
              "      <td>2022-09-18 04:50:24.521</td>\n",
              "      <td>70.0</td>\n",
              "      <td>37</td>\n",
              "      <td>1</td>\n",
              "      <td>70.0</td>\n",
              "      <td>1</td>\n",
              "    </tr>\n",
              "    <tr>\n",
              "      <th>15454</th>\n",
              "      <td>fff8228534eaf9d70eee285014632a38e9567ffd4f38b9...</td>\n",
              "      <td>2022-11-14 02:02:28.166</td>\n",
              "      <td>158.0</td>\n",
              "      <td>46</td>\n",
              "      <td>1</td>\n",
              "      <td>158.0</td>\n",
              "      <td>1</td>\n",
              "    </tr>\n",
              "  </tbody>\n",
              "</table>\n",
              "<p>193213 rows × 7 columns</p>\n",
              "</div>\n",
              "      <button class=\"colab-df-convert\" onclick=\"convertToInteractive('df-9f350ce9-4cf0-4e56-8b5e-7f2d8bbdca07')\"\n",
              "              title=\"Convert this dataframe to an interactive table.\"\n",
              "              style=\"display:none;\">\n",
              "        \n",
              "  <svg xmlns=\"http://www.w3.org/2000/svg\" height=\"24px\"viewBox=\"0 0 24 24\"\n",
              "       width=\"24px\">\n",
              "    <path d=\"M0 0h24v24H0V0z\" fill=\"none\"/>\n",
              "    <path d=\"M18.56 5.44l.94 2.06.94-2.06 2.06-.94-2.06-.94-.94-2.06-.94 2.06-2.06.94zm-11 1L8.5 8.5l.94-2.06 2.06-.94-2.06-.94L8.5 2.5l-.94 2.06-2.06.94zm10 10l.94 2.06.94-2.06 2.06-.94-2.06-.94-.94-2.06-.94 2.06-2.06.94z\"/><path d=\"M17.41 7.96l-1.37-1.37c-.4-.4-.92-.59-1.43-.59-.52 0-1.04.2-1.43.59L10.3 9.45l-7.72 7.72c-.78.78-.78 2.05 0 2.83L4 21.41c.39.39.9.59 1.41.59.51 0 1.02-.2 1.41-.59l7.78-7.78 2.81-2.81c.8-.78.8-2.07 0-2.86zM5.41 20L4 18.59l7.72-7.72 1.47 1.35L5.41 20z\"/>\n",
              "  </svg>\n",
              "      </button>\n",
              "      \n",
              "  <style>\n",
              "    .colab-df-container {\n",
              "      display:flex;\n",
              "      flex-wrap:wrap;\n",
              "      gap: 12px;\n",
              "    }\n",
              "\n",
              "    .colab-df-convert {\n",
              "      background-color: #E8F0FE;\n",
              "      border: none;\n",
              "      border-radius: 50%;\n",
              "      cursor: pointer;\n",
              "      display: none;\n",
              "      fill: #1967D2;\n",
              "      height: 32px;\n",
              "      padding: 0 0 0 0;\n",
              "      width: 32px;\n",
              "    }\n",
              "\n",
              "    .colab-df-convert:hover {\n",
              "      background-color: #E2EBFA;\n",
              "      box-shadow: 0px 1px 2px rgba(60, 64, 67, 0.3), 0px 1px 3px 1px rgba(60, 64, 67, 0.15);\n",
              "      fill: #174EA6;\n",
              "    }\n",
              "\n",
              "    [theme=dark] .colab-df-convert {\n",
              "      background-color: #3B4455;\n",
              "      fill: #D2E3FC;\n",
              "    }\n",
              "\n",
              "    [theme=dark] .colab-df-convert:hover {\n",
              "      background-color: #434B5C;\n",
              "      box-shadow: 0px 1px 3px 1px rgba(0, 0, 0, 0.15);\n",
              "      filter: drop-shadow(0px 1px 2px rgba(0, 0, 0, 0.3));\n",
              "      fill: #FFFFFF;\n",
              "    }\n",
              "  </style>\n",
              "\n",
              "      <script>\n",
              "        const buttonEl =\n",
              "          document.querySelector('#df-9f350ce9-4cf0-4e56-8b5e-7f2d8bbdca07 button.colab-df-convert');\n",
              "        buttonEl.style.display =\n",
              "          google.colab.kernel.accessAllowed ? 'block' : 'none';\n",
              "\n",
              "        async function convertToInteractive(key) {\n",
              "          const element = document.querySelector('#df-9f350ce9-4cf0-4e56-8b5e-7f2d8bbdca07');\n",
              "          const dataTable =\n",
              "            await google.colab.kernel.invokeFunction('convertToInteractive',\n",
              "                                                     [key], {});\n",
              "          if (!dataTable) return;\n",
              "\n",
              "          const docLinkHtml = 'Like what you see? Visit the ' +\n",
              "            '<a target=\"_blank\" href=https://colab.research.google.com/notebooks/data_table.ipynb>data table notebook</a>'\n",
              "            + ' to learn more about interactive tables.';\n",
              "          element.innerHTML = '';\n",
              "          dataTable['output_type'] = 'display_data';\n",
              "          await google.colab.output.renderOutput(dataTable, element);\n",
              "          const docLink = document.createElement('div');\n",
              "          docLink.innerHTML = docLinkHtml;\n",
              "          element.appendChild(docLink);\n",
              "        }\n",
              "      </script>\n",
              "    </div>\n",
              "  </div>\n",
              "  "
            ]
          },
          "metadata": {},
          "execution_count": 9
        }
      ]
    },
    {
      "cell_type": "markdown",
      "source": [
        "### Top 10 Percentile Bucket\n",
        "> These are the most active and heavy users. To predict the users vulnerable to churn, we will check if there is a decline in average weekly orders of last 4 weeks compared to second last 4 weeks. <br>\n",
        "i.e. \n",
        "```\n",
        "Avg(weekly orders of last 4 weeks) / Avg(weekly orders of second last 4 weeks) < threshold\n",
        "```\n",
        "We will set the threshold to be 0.5\n",
        "\n",
        "\n"
      ],
      "metadata": {
        "id": "DYGHYcjBY4vg"
      }
    },
    {
      "cell_type": "code",
      "source": [
        "## Getting the top 10 percentile users based on the total_orders\n",
        "## total_orders value for the 90th percentile is 22\n",
        "df_top_10 = df[df[\"total_orders\"]>22]\n",
        "order_distribution_across_users(df_top_10, title=\"Percentile Distribution of total_orders across top 10 percentile users\")"
      ],
      "metadata": {
        "colab": {
          "base_uri": "https://localhost:8080/",
          "height": 513
        },
        "id": "oQo8CdyrDHiB",
        "outputId": "25139bd3-6152-47ce-b1bf-8989ee0372d7"
      },
      "execution_count": 10,
      "outputs": [
        {
          "output_type": "display_data",
          "data": {
            "text/plain": [
              "<Figure size 1152x576 with 1 Axes>"
            ],
            "image/png": "[encoded data removed]"
          },
          "metadata": {
            "needs_background": "light"
          }
        }
      ]
    },
    {
      "cell_type": "code",
      "source": [
        "df_top_10_weekly = (df_top_10[[\"user_id\",\"week\",\"weekly_orders\",\"weekly_purchase_value\"]]).drop_duplicates().reset_index().drop(['index'], axis = 1)"
      ],
      "metadata": {
        "id": "aj-EaNFefFwb"
      },
      "execution_count": 11,
      "outputs": []
    },
    {
      "cell_type": "code",
      "source": [
        "df_top_10_weekly"
      ],
      "metadata": {
        "colab": {
          "base_uri": "https://localhost:8080/",
          "height": 419
        },
        "id": "BgR198sMfV3w",
        "outputId": "7897c978-0081-48f2-fb75-a00505aacd99"
      },
      "execution_count": 12,
      "outputs": [
        {
          "output_type": "execute_result",
          "data": {
            "text/plain": [
              "                                                 user_id  week  weekly_orders  \\\n",
              "0      00276702d3dfe405faae5865d69f7591f17cfb3b4911a4...    33              4   \n",
              "1      00276702d3dfe405faae5865d69f7591f17cfb3b4911a4...    34              4   \n",
              "2      00276702d3dfe405faae5865d69f7591f17cfb3b4911a4...    35              8   \n",
              "3      00276702d3dfe405faae5865d69f7591f17cfb3b4911a4...    36              3   \n",
              "4      00276702d3dfe405faae5865d69f7591f17cfb3b4911a4...    37              2   \n",
              "...                                                  ...   ...            ...   \n",
              "29872  fff3dca643fdb28f6a582b46b9d44279e319296d66bf75...    45              5   \n",
              "29873  fff3dca643fdb28f6a582b46b9d44279e319296d66bf75...    46              2   \n",
              "29874  fff3dca643fdb28f6a582b46b9d44279e319296d66bf75...    47              2   \n",
              "29875  fff3dca643fdb28f6a582b46b9d44279e319296d66bf75...    48              2   \n",
              "29876  fff3dca643fdb28f6a582b46b9d44279e319296d66bf75...    49              2   \n",
              "\n",
              "       weekly_purchase_value  \n",
              "0                     1669.0  \n",
              "1                     1569.0  \n",
              "2                     4879.0  \n",
              "3                      554.0  \n",
              "4                      860.0  \n",
              "...                      ...  \n",
              "29872                  861.0  \n",
              "29873                  449.0  \n",
              "29874                  690.0  \n",
              "29875                  667.0  \n",
              "29876                  694.0  \n",
              "\n",
              "[29877 rows x 4 columns]"
            ],
            "text/html": [
              "\n",
              "  <div id=\"df-1141f156-5b79-44b3-a9f7-1de108bd493e\">\n",
              "    <div class=\"colab-df-container\">\n",
              "      <div>\n",
              "<style scoped>\n",
              "    .dataframe tbody tr th:only-of-type {\n",
              "        vertical-align: middle;\n",
              "    }\n",
              "\n",
              "    .dataframe tbody tr th {\n",
              "        vertical-align: top;\n",
              "    }\n",
              "\n",
              "    .dataframe thead th {\n",
              "        text-align: right;\n",
              "    }\n",
              "</style>\n",
              "<table border=\"1\" class=\"dataframe\">\n",
              "  <thead>\n",
              "    <tr style=\"text-align: right;\">\n",
              "      <th></th>\n",
              "      <th>user_id</th>\n",
              "      <th>week</th>\n",
              "      <th>weekly_orders</th>\n",
              "      <th>weekly_purchase_value</th>\n",
              "    </tr>\n",
              "  </thead>\n",
              "  <tbody>\n",
              "    <tr>\n",
              "      <th>0</th>\n",
              "      <td>00276702d3dfe405faae5865d69f7591f17cfb3b4911a4...</td>\n",
              "      <td>33</td>\n",
              "      <td>4</td>\n",
              "      <td>1669.0</td>\n",
              "    </tr>\n",
              "    <tr>\n",
              "      <th>1</th>\n",
              "      <td>00276702d3dfe405faae5865d69f7591f17cfb3b4911a4...</td>\n",
              "      <td>34</td>\n",
              "      <td>4</td>\n",
              "      <td>1569.0</td>\n",
              "    </tr>\n",
              "    <tr>\n",
              "      <th>2</th>\n",
              "      <td>00276702d3dfe405faae5865d69f7591f17cfb3b4911a4...</td>\n",
              "      <td>35</td>\n",
              "      <td>8</td>\n",
              "      <td>4879.0</td>\n",
              "    </tr>\n",
              "    <tr>\n",
              "      <th>3</th>\n",
              "      <td>00276702d3dfe405faae5865d69f7591f17cfb3b4911a4...</td>\n",
              "      <td>36</td>\n",
              "      <td>3</td>\n",
              "      <td>554.0</td>\n",
              "    </tr>\n",
              "    <tr>\n",
              "      <th>4</th>\n",
              "      <td>00276702d3dfe405faae5865d69f7591f17cfb3b4911a4...</td>\n",
              "      <td>37</td>\n",
              "      <td>2</td>\n",
              "      <td>860.0</td>\n",
              "    </tr>\n",
              "    <tr>\n",
              "      <th>...</th>\n",
              "      <td>...</td>\n",
              "      <td>...</td>\n",
              "      <td>...</td>\n",
              "      <td>...</td>\n",
              "    </tr>\n",
              "    <tr>\n",
              "      <th>29872</th>\n",
              "      <td>fff3dca643fdb28f6a582b46b9d44279e319296d66bf75...</td>\n",
              "      <td>45</td>\n",
              "      <td>5</td>\n",
              "      <td>861.0</td>\n",
              "    </tr>\n",
              "    <tr>\n",
              "      <th>29873</th>\n",
              "      <td>fff3dca643fdb28f6a582b46b9d44279e319296d66bf75...</td>\n",
              "      <td>46</td>\n",
              "      <td>2</td>\n",
              "      <td>449.0</td>\n",
              "    </tr>\n",
              "    <tr>\n",
              "      <th>29874</th>\n",
              "      <td>fff3dca643fdb28f6a582b46b9d44279e319296d66bf75...</td>\n",
              "      <td>47</td>\n",
              "      <td>2</td>\n",
              "      <td>690.0</td>\n",
              "    </tr>\n",
              "    <tr>\n",
              "      <th>29875</th>\n",
              "      <td>fff3dca643fdb28f6a582b46b9d44279e319296d66bf75...</td>\n",
              "      <td>48</td>\n",
              "      <td>2</td>\n",
              "      <td>667.0</td>\n",
              "    </tr>\n",
              "    <tr>\n",
              "      <th>29876</th>\n",
              "      <td>fff3dca643fdb28f6a582b46b9d44279e319296d66bf75...</td>\n",
              "      <td>49</td>\n",
              "      <td>2</td>\n",
              "      <td>694.0</td>\n",
              "    </tr>\n",
              "  </tbody>\n",
              "</table>\n",
              "<p>29877 rows × 4 columns</p>\n",
              "</div>\n",
              "      <button class=\"colab-df-convert\" onclick=\"convertToInteractive('df-1141f156-5b79-44b3-a9f7-1de108bd493e')\"\n",
              "              title=\"Convert this dataframe to an interactive table.\"\n",
              "              style=\"display:none;\">\n",
              "        \n",
              "  <svg xmlns=\"http://www.w3.org/2000/svg\" height=\"24px\"viewBox=\"0 0 24 24\"\n",
              "       width=\"24px\">\n",
              "    <path d=\"M0 0h24v24H0V0z\" fill=\"none\"/>\n",
              "    <path d=\"M18.56 5.44l.94 2.06.94-2.06 2.06-.94-2.06-.94-.94-2.06-.94 2.06-2.06.94zm-11 1L8.5 8.5l.94-2.06 2.06-.94-2.06-.94L8.5 2.5l-.94 2.06-2.06.94zm10 10l.94 2.06.94-2.06 2.06-.94-2.06-.94-.94-2.06-.94 2.06-2.06.94z\"/><path d=\"M17.41 7.96l-1.37-1.37c-.4-.4-.92-.59-1.43-.59-.52 0-1.04.2-1.43.59L10.3 9.45l-7.72 7.72c-.78.78-.78 2.05 0 2.83L4 21.41c.39.39.9.59 1.41.59.51 0 1.02-.2 1.41-.59l7.78-7.78 2.81-2.81c.8-.78.8-2.07 0-2.86zM5.41 20L4 18.59l7.72-7.72 1.47 1.35L5.41 20z\"/>\n",
              "  </svg>\n",
              "      </button>\n",
              "      \n",
              "  <style>\n",
              "    .colab-df-container {\n",
              "      display:flex;\n",
              "      flex-wrap:wrap;\n",
              "      gap: 12px;\n",
              "    }\n",
              "\n",
              "    .colab-df-convert {\n",
              "      background-color: #E8F0FE;\n",
              "      border: none;\n",
              "      border-radius: 50%;\n",
              "      cursor: pointer;\n",
              "      display: none;\n",
              "      fill: #1967D2;\n",
              "      height: 32px;\n",
              "      padding: 0 0 0 0;\n",
              "      width: 32px;\n",
              "    }\n",
              "\n",
              "    .colab-df-convert:hover {\n",
              "      background-color: #E2EBFA;\n",
              "      box-shadow: 0px 1px 2px rgba(60, 64, 67, 0.3), 0px 1px 3px 1px rgba(60, 64, 67, 0.15);\n",
              "      fill: #174EA6;\n",
              "    }\n",
              "\n",
              "    [theme=dark] .colab-df-convert {\n",
              "      background-color: #3B4455;\n",
              "      fill: #D2E3FC;\n",
              "    }\n",
              "\n",
              "    [theme=dark] .colab-df-convert:hover {\n",
              "      background-color: #434B5C;\n",
              "      box-shadow: 0px 1px 3px 1px rgba(0, 0, 0, 0.15);\n",
              "      filter: drop-shadow(0px 1px 2px rgba(0, 0, 0, 0.3));\n",
              "      fill: #FFFFFF;\n",
              "    }\n",
              "  </style>\n",
              "\n",
              "      <script>\n",
              "        const buttonEl =\n",
              "          document.querySelector('#df-1141f156-5b79-44b3-a9f7-1de108bd493e button.colab-df-convert');\n",
              "        buttonEl.style.display =\n",
              "          google.colab.kernel.accessAllowed ? 'block' : 'none';\n",
              "\n",
              "        async function convertToInteractive(key) {\n",
              "          const element = document.querySelector('#df-1141f156-5b79-44b3-a9f7-1de108bd493e');\n",
              "          const dataTable =\n",
              "            await google.colab.kernel.invokeFunction('convertToInteractive',\n",
              "                                                     [key], {});\n",
              "          if (!dataTable) return;\n",
              "\n",
              "          const docLinkHtml = 'Like what you see? Visit the ' +\n",
              "            '<a target=\"_blank\" href=https://colab.research.google.com/notebooks/data_table.ipynb>data table notebook</a>'\n",
              "            + ' to learn more about interactive tables.';\n",
              "          element.innerHTML = '';\n",
              "          dataTable['output_type'] = 'display_data';\n",
              "          await google.colab.output.renderOutput(dataTable, element);\n",
              "          const docLink = document.createElement('div');\n",
              "          docLink.innerHTML = docLinkHtml;\n",
              "          element.appendChild(docLink);\n",
              "        }\n",
              "      </script>\n",
              "    </div>\n",
              "  </div>\n",
              "  "
            ]
          },
          "metadata": {},
          "execution_count": 12
        }
      ]
    },
    {
      "cell_type": "code",
      "source": [
        "df_top_10_weekly_last_4 = df_top_10_weekly[df_top_10_weekly[\"week\"].isin([46,47,48,49])]\n",
        "df_top_10_weekly_last_4 = df_top_10_weekly_last_4.pivot_table(index = ['user_id'], values=['weekly_orders'], aggfunc='mean').reset_index()\n",
        "df_top_10_weekly_last_4 = df_top_10_weekly_last_4.rename({\"weekly_orders\": \"last_4_weeks_avg_orders\"}, axis = 1)\n",
        "\n",
        "df_top_10_weekly_second_last_4 = df_top_10_weekly[df_top_10_weekly[\"week\"].isin([42,43,44,45])]\n",
        "df_top_10_weekly_second_last_4 = df_top_10_weekly_second_last_4.pivot_table(index = ['user_id'], values=['weekly_orders'], aggfunc='mean').reset_index()\n",
        "df_top_10_weekly_second_last_4 = df_top_10_weekly_second_last_4.rename({\"weekly_orders\": \"second_last_4_weeks_avg_orders\"}, axis = 1)\n",
        "\n",
        "\n",
        "df_top_10_users = df_top_10_weekly[[\"user_id\"]].drop_duplicates().reset_index().drop([\"index\"], axis = 1)\n",
        "df_top_10_users = df_top_10_users.merge(df_top_10_weekly_last_4, on=\"user_id\", how=\"left\")\n",
        "df_top_10_users = df_top_10_users.merge(df_top_10_weekly_second_last_4, on=\"user_id\", how=\"left\")\n",
        "df_top_10_users = df_top_10_users.fillna(0.1)\n",
        "df_top_10_users[\"ratio\"] = df_top_10_users[\"last_4_weeks_avg_orders\"]/df_top_10_users[\"second_last_4_weeks_avg_orders\"]\n"
      ],
      "metadata": {
        "id": "oJZdRK41DHkb"
      },
      "execution_count": 13,
      "outputs": []
    },
    {
      "cell_type": "code",
      "source": [
        "users_churn_top_10_1 = list((df_top_10_users[(df_top_10_users[\"last_4_weeks_avg_orders\"]==0.1) \n",
        "                          & (df_top_10_users[\"second_last_4_weeks_avg_orders\"]==0.1)]).user_id.values)\n",
        "users_churn_top_10_2 = list((df_top_10_users[df_top_10_users[\"ratio\"] < 0.5]).user_id.values)\n",
        "\n",
        "users_churn_top_10 = users_churn_top_10_1 + users_churn_top_10_2"
      ],
      "metadata": {
        "id": "-_6rXP9HDHnB"
      },
      "execution_count": 14,
      "outputs": []
    },
    {
      "cell_type": "code",
      "source": [
        "print(\"Number of users vulnerable to churn in top 10 percentile bucket: {}\".format(len(users_churn_top_10)))"
      ],
      "metadata": {
        "colab": {
          "base_uri": "https://localhost:8080/"
        },
        "id": "S56yyF8Y5C_g",
        "outputId": "b95a57c4-f606-4327-9a9e-bbc4c8edcb70"
      },
      "execution_count": 15,
      "outputs": [
        {
          "output_type": "stream",
          "name": "stdout",
          "text": [
            "Number of users vulnerable to churn in top 10 percentile bucket: 177\n"
          ]
        }
      ]
    },
    {
      "cell_type": "markdown",
      "source": [
        "#### Customer Life Time Value of the Top 10 percentile of Users\n",
        "> Customer Lifetime Value can be calculated by multiplying your customer's average purchase value, average purchase frequency, and average customer lifespan. <br>\n",
        "\n",
        "```\n",
        "LTV = Average(Weekly purchase value) * LifeSpan\n",
        "```\n",
        "> LifeSpan of the top users are assumed to 1 year for now\n",
        "\n",
        "\n"
      ],
      "metadata": {
        "id": "On9g4xQg2GcM"
      }
    },
    {
      "cell_type": "code",
      "source": [
        "df_top_10_ltv = df_top_10_weekly.pivot_table(index = ['user_id'], values=['weekly_purchase_value'], aggfunc='mean').reset_index()\n",
        "df_top_10_ltv['ltv'] = df_top_10_ltv['weekly_purchase_value']*52"
      ],
      "metadata": {
        "id": "ZuCGbDjs2FP9"
      },
      "execution_count": 16,
      "outputs": []
    },
    {
      "cell_type": "code",
      "source": [
        "df_top_10_ltv"
      ],
      "metadata": {
        "colab": {
          "base_uri": "https://localhost:8080/",
          "height": 419
        },
        "id": "Ire8olMi8PUc",
        "outputId": "1a82d3f5-92ef-4f29-e0d0-1c0c2eea47f0"
      },
      "execution_count": 17,
      "outputs": [
        {
          "output_type": "execute_result",
          "data": {
            "text/plain": [
              "                                                user_id  \\\n",
              "0     00276702d3dfe405faae5865d69f7591f17cfb3b4911a4...   \n",
              "1     002ad2a1aca7752b884a129e7b221fbd517fd045ff16cd...   \n",
              "2     0055584dd920f8978d76dee28f986668e1aa8da1607d2c...   \n",
              "3     0088e80c4d74fc3b3da9cd3339cccd3018c1a57846cc04...   \n",
              "4     009f92b72ebe5d362e4cfdf39cfb19aa3b99290dfc4114...   \n",
              "...                                                 ...   \n",
              "2170  ff9ce209107c70a5433d1a50ece5577396c8944481c067...   \n",
              "2171  ffc9bd2df9704e70f56514556fccafbc229d4692fd7be8...   \n",
              "2172  ffed5568a5334f55e81a298a1ddf860790ba7016e293bb...   \n",
              "2173  ffed85184c78f3281cef7f03f45f4d79922d78c57ebb2f...   \n",
              "2174  fff3dca643fdb28f6a582b46b9d44279e319296d66bf75...   \n",
              "\n",
              "      weekly_purchase_value           ltv  \n",
              "0               1258.470588  65440.470588  \n",
              "1                827.909091  43051.272727  \n",
              "2                850.928571  44248.285714  \n",
              "3                773.307692  40212.000000  \n",
              "4               1071.866667  55737.066667  \n",
              "...                     ...           ...  \n",
              "2170             654.272727  34022.181818  \n",
              "2171             944.250000  49101.000000  \n",
              "2172             964.083333  50132.333333  \n",
              "2173            1118.312500  58152.250000  \n",
              "2174             989.562500  51457.250000  \n",
              "\n",
              "[2175 rows x 3 columns]"
            ],
            "text/html": [
              "\n",
              "  <div id=\"df-b5a6fad3-7590-43d8-9df1-743418f2b5dc\">\n",
              "    <div class=\"colab-df-container\">\n",
              "      <div>\n",
              "<style scoped>\n",
              "    .dataframe tbody tr th:only-of-type {\n",
              "        vertical-align: middle;\n",
              "    }\n",
              "\n",
              "    .dataframe tbody tr th {\n",
              "        vertical-align: top;\n",
              "    }\n",
              "\n",
              "    .dataframe thead th {\n",
              "        text-align: right;\n",
              "    }\n",
              "</style>\n",
              "<table border=\"1\" class=\"dataframe\">\n",
              "  <thead>\n",
              "    <tr style=\"text-align: right;\">\n",
              "      <th></th>\n",
              "      <th>user_id</th>\n",
              "      <th>weekly_purchase_value</th>\n",
              "      <th>ltv</th>\n",
              "    </tr>\n",
              "  </thead>\n",
              "  <tbody>\n",
              "    <tr>\n",
              "      <th>0</th>\n",
              "      <td>00276702d3dfe405faae5865d69f7591f17cfb3b4911a4...</td>\n",
              "      <td>1258.470588</td>\n",
              "      <td>65440.470588</td>\n",
              "    </tr>\n",
              "    <tr>\n",
              "      <th>1</th>\n",
              "      <td>002ad2a1aca7752b884a129e7b221fbd517fd045ff16cd...</td>\n",
              "      <td>827.909091</td>\n",
              "      <td>43051.272727</td>\n",
              "    </tr>\n",
              "    <tr>\n",
              "      <th>2</th>\n",
              "      <td>0055584dd920f8978d76dee28f986668e1aa8da1607d2c...</td>\n",
              "      <td>850.928571</td>\n",
              "      <td>44248.285714</td>\n",
              "    </tr>\n",
              "    <tr>\n",
              "      <th>3</th>\n",
              "      <td>0088e80c4d74fc3b3da9cd3339cccd3018c1a57846cc04...</td>\n",
              "      <td>773.307692</td>\n",
              "      <td>40212.000000</td>\n",
              "    </tr>\n",
              "    <tr>\n",
              "      <th>4</th>\n",
              "      <td>009f92b72ebe5d362e4cfdf39cfb19aa3b99290dfc4114...</td>\n",
              "      <td>1071.866667</td>\n",
              "      <td>55737.066667</td>\n",
              "    </tr>\n",
              "    <tr>\n",
              "      <th>...</th>\n",
              "      <td>...</td>\n",
              "      <td>...</td>\n",
              "      <td>...</td>\n",
              "    </tr>\n",
              "    <tr>\n",
              "      <th>2170</th>\n",
              "      <td>ff9ce209107c70a5433d1a50ece5577396c8944481c067...</td>\n",
              "      <td>654.272727</td>\n",
              "      <td>34022.181818</td>\n",
              "    </tr>\n",
              "    <tr>\n",
              "      <th>2171</th>\n",
              "      <td>ffc9bd2df9704e70f56514556fccafbc229d4692fd7be8...</td>\n",
              "      <td>944.250000</td>\n",
              "      <td>49101.000000</td>\n",
              "    </tr>\n",
              "    <tr>\n",
              "      <th>2172</th>\n",
              "      <td>ffed5568a5334f55e81a298a1ddf860790ba7016e293bb...</td>\n",
              "      <td>964.083333</td>\n",
              "      <td>50132.333333</td>\n",
              "    </tr>\n",
              "    <tr>\n",
              "      <th>2173</th>\n",
              "      <td>ffed85184c78f3281cef7f03f45f4d79922d78c57ebb2f...</td>\n",
              "      <td>1118.312500</td>\n",
              "      <td>58152.250000</td>\n",
              "    </tr>\n",
              "    <tr>\n",
              "      <th>2174</th>\n",
              "      <td>fff3dca643fdb28f6a582b46b9d44279e319296d66bf75...</td>\n",
              "      <td>989.562500</td>\n",
              "      <td>51457.250000</td>\n",
              "    </tr>\n",
              "  </tbody>\n",
              "</table>\n",
              "<p>2175 rows × 3 columns</p>\n",
              "</div>\n",
              "      <button class=\"colab-df-convert\" onclick=\"convertToInteractive('df-b5a6fad3-7590-43d8-9df1-743418f2b5dc')\"\n",
              "              title=\"Convert this dataframe to an interactive table.\"\n",
              "              style=\"display:none;\">\n",
              "        \n",
              "  <svg xmlns=\"http://www.w3.org/2000/svg\" height=\"24px\"viewBox=\"0 0 24 24\"\n",
              "       width=\"24px\">\n",
              "    <path d=\"M0 0h24v24H0V0z\" fill=\"none\"/>\n",
              "    <path d=\"M18.56 5.44l.94 2.06.94-2.06 2.06-.94-2.06-.94-.94-2.06-.94 2.06-2.06.94zm-11 1L8.5 8.5l.94-2.06 2.06-.94-2.06-.94L8.5 2.5l-.94 2.06-2.06.94zm10 10l.94 2.06.94-2.06 2.06-.94-2.06-.94-.94-2.06-.94 2.06-2.06.94z\"/><path d=\"M17.41 7.96l-1.37-1.37c-.4-.4-.92-.59-1.43-.59-.52 0-1.04.2-1.43.59L10.3 9.45l-7.72 7.72c-.78.78-.78 2.05 0 2.83L4 21.41c.39.39.9.59 1.41.59.51 0 1.02-.2 1.41-.59l7.78-7.78 2.81-2.81c.8-.78.8-2.07 0-2.86zM5.41 20L4 18.59l7.72-7.72 1.47 1.35L5.41 20z\"/>\n",
              "  </svg>\n",
              "      </button>\n",
              "      \n",
              "  <style>\n",
              "    .colab-df-container {\n",
              "      display:flex;\n",
              "      flex-wrap:wrap;\n",
              "      gap: 12px;\n",
              "    }\n",
              "\n",
              "    .colab-df-convert {\n",
              "      background-color: #E8F0FE;\n",
              "      border: none;\n",
              "      border-radius: 50%;\n",
              "      cursor: pointer;\n",
              "      display: none;\n",
              "      fill: #1967D2;\n",
              "      height: 32px;\n",
              "      padding: 0 0 0 0;\n",
              "      width: 32px;\n",
              "    }\n",
              "\n",
              "    .colab-df-convert:hover {\n",
              "      background-color: #E2EBFA;\n",
              "      box-shadow: 0px 1px 2px rgba(60, 64, 67, 0.3), 0px 1px 3px 1px rgba(60, 64, 67, 0.15);\n",
              "      fill: #174EA6;\n",
              "    }\n",
              "\n",
              "    [theme=dark] .colab-df-convert {\n",
              "      background-color: #3B4455;\n",
              "      fill: #D2E3FC;\n",
              "    }\n",
              "\n",
              "    [theme=dark] .colab-df-convert:hover {\n",
              "      background-color: #434B5C;\n",
              "      box-shadow: 0px 1px 3px 1px rgba(0, 0, 0, 0.15);\n",
              "      filter: drop-shadow(0px 1px 2px rgba(0, 0, 0, 0.3));\n",
              "      fill: #FFFFFF;\n",
              "    }\n",
              "  </style>\n",
              "\n",
              "      <script>\n",
              "        const buttonEl =\n",
              "          document.querySelector('#df-b5a6fad3-7590-43d8-9df1-743418f2b5dc button.colab-df-convert');\n",
              "        buttonEl.style.display =\n",
              "          google.colab.kernel.accessAllowed ? 'block' : 'none';\n",
              "\n",
              "        async function convertToInteractive(key) {\n",
              "          const element = document.querySelector('#df-b5a6fad3-7590-43d8-9df1-743418f2b5dc');\n",
              "          const dataTable =\n",
              "            await google.colab.kernel.invokeFunction('convertToInteractive',\n",
              "                                                     [key], {});\n",
              "          if (!dataTable) return;\n",
              "\n",
              "          const docLinkHtml = 'Like what you see? Visit the ' +\n",
              "            '<a target=\"_blank\" href=https://colab.research.google.com/notebooks/data_table.ipynb>data table notebook</a>'\n",
              "            + ' to learn more about interactive tables.';\n",
              "          element.innerHTML = '';\n",
              "          dataTable['output_type'] = 'display_data';\n",
              "          await google.colab.output.renderOutput(dataTable, element);\n",
              "          const docLink = document.createElement('div');\n",
              "          docLink.innerHTML = docLinkHtml;\n",
              "          element.appendChild(docLink);\n",
              "        }\n",
              "      </script>\n",
              "    </div>\n",
              "  </div>\n",
              "  "
            ]
          },
          "metadata": {},
          "execution_count": 17
        }
      ]
    },
    {
      "cell_type": "markdown",
      "source": [
        "### Middle Bucket (80-90 percentile bucket)\n",
        "> These are believed to be the consistent users. To predict the users vulnerable to churn, we will again check if there is a decline in average weekly orders of last 4 weeks compared to second last 4 weeks. <br>\n",
        "i.e. \n",
        "```\n",
        "Avg(weekly orders of last 4 weeks) / Avg(weekly orders of second last 4 weeks) < threshold\n",
        "```\n",
        "We will set the threshold to be 0.5"
      ],
      "metadata": {
        "id": "Hk6JTY3audK-"
      }
    },
    {
      "cell_type": "code",
      "source": [
        "df_middle = df[df[\"total_orders\"].isin(range(13,23))]\n",
        "order_distribution_across_users(df_middle, title = \"Percentile Distribution of total_orders across 80-90 percentile bucket of users\")"
      ],
      "metadata": {
        "colab": {
          "base_uri": "https://localhost:8080/",
          "height": 513
        },
        "id": "cdVrvYqpcO5l",
        "outputId": "9e06bdc4-f09f-4c57-e30e-5fdc2d384ace"
      },
      "execution_count": 18,
      "outputs": [
        {
          "output_type": "display_data",
          "data": {
            "text/plain": [
              "<Figure size 1152x576 with 1 Axes>"
            ],
            "image/png": "[encoded data removed]"
          },
          "metadata": {
            "needs_background": "light"
          }
        }
      ]
    },
    {
      "cell_type": "code",
      "source": [
        "df_middle_weekly = (df_middle[[\"user_id\",\"week\",\"weekly_orders\"]]).drop_duplicates().reset_index().drop(['index'], axis = 1)"
      ],
      "metadata": {
        "id": "2zrNZqjFcPBd"
      },
      "execution_count": 19,
      "outputs": []
    },
    {
      "cell_type": "code",
      "source": [
        "df_middle_weekly_last_4 = df_middle_weekly[df_middle_weekly[\"week\"].isin([46,47,48,49])]\n",
        "df_middle_weekly_last_4 = df_middle_weekly_last_4.pivot_table(index = ['user_id'], values=['weekly_orders'], aggfunc='mean').reset_index()\n",
        "df_middle_weekly_last_4 = df_middle_weekly_last_4.rename({\"weekly_orders\": \"last_4_weeks_avg_orders\"}, axis = 1)\n",
        "\n",
        "df_middle_weekly_second_last_4 = df_middle_weekly[df_middle_weekly[\"week\"].isin([42,43,44,45])]\n",
        "df_middle_weekly_second_last_4 = df_middle_weekly_second_last_4.pivot_table(index = ['user_id'], values=['weekly_orders'], aggfunc='mean').reset_index()\n",
        "df_middle_weekly_second_last_4 = df_middle_weekly_second_last_4.rename({\"weekly_orders\": \"second_last_4_weeks_avg_orders\"}, axis = 1)\n",
        "\n",
        "\n",
        "df_middle_users = df_middle_weekly[[\"user_id\"]].drop_duplicates().reset_index().drop([\"index\"], axis = 1)\n",
        "df_middle_users = df_middle_users.merge(df_middle_weekly_last_4, on=\"user_id\", how=\"left\")\n",
        "df_middle_users = df_middle_users.merge(df_middle_weekly_second_last_4, on=\"user_id\", how=\"left\")\n",
        "df_middle_users = df_middle_users.fillna(0.1)\n",
        "df_middle_users[\"ratio\"] = df_middle_users[\"last_4_weeks_avg_orders\"]/df_middle_users[\"second_last_4_weeks_avg_orders\"]\n"
      ],
      "metadata": {
        "id": "VphuWIvgcPGc"
      },
      "execution_count": 20,
      "outputs": []
    },
    {
      "cell_type": "code",
      "source": [
        "users_churn_middle_1 = list((df_middle_users[(df_middle_users[\"last_4_weeks_avg_orders\"]==0.1) \n",
        "                          & (df_middle_users[\"second_last_4_weeks_avg_orders\"]==0.1)]).user_id.values)\n",
        "users_churn_middle_2 = list((df_middle_users[df_middle_users[\"ratio\"] < 0.5]).user_id.values)\n",
        "\n",
        "users_churn_middle = users_churn_middle_1 + users_churn_middle_2"
      ],
      "metadata": {
        "id": "TlUVJWrkcPLW"
      },
      "execution_count": 21,
      "outputs": []
    },
    {
      "cell_type": "code",
      "source": [
        "print(\"Number of users vulnerable to churn in the 80-90 percentile bucket: {}\".format(len(users_churn_middle)))"
      ],
      "metadata": {
        "colab": {
          "base_uri": "https://localhost:8080/"
        },
        "id": "mMraYrp_cPQ5",
        "outputId": "c8373440-e541-4f95-f969-f4e822c89b44"
      },
      "execution_count": 22,
      "outputs": [
        {
          "output_type": "stream",
          "name": "stdout",
          "text": [
            "Number of users vulnerable to churn in the 80-90 percentile bucket: 282\n"
          ]
        }
      ]
    },
    {
      "cell_type": "markdown",
      "source": [
        "### Bottom 80 (0-80 percentile bucket)\n",
        "> This mostly comprises of New Users, Light Users and Inactive users.\n",
        "\n",
        "1.   New users are those, who have made purchases first time in the last 8 weeks. New users are always vulnerable to churn.\n",
        "2.   Inactive users are assumed to be, who have not made any purchases in the last 8 weeks.\n",
        "3.   Rest of the users can be considered as light users\n",
        "\n",
        "\n"
      ],
      "metadata": {
        "id": "8kxBOpcpAyMR"
      }
    },
    {
      "cell_type": "code",
      "source": [
        "df_bottom_80 = df[df[\"total_orders\"] <= 12]\n",
        "order_distribution_across_users(df_bottom_80, title = \"Percentile Distribution of total_orders across bottom 80 percentile users\")"
      ],
      "metadata": {
        "colab": {
          "base_uri": "https://localhost:8080/",
          "height": 513
        },
        "id": "oEBEpVyoAxNK",
        "outputId": "3cee8593-8c4f-4c3e-8818-358851149e18"
      },
      "execution_count": 23,
      "outputs": [
        {
          "output_type": "display_data",
          "data": {
            "text/plain": [
              "<Figure size 1152x576 with 1 Axes>"
            ],
            "image/png": "[encoded data removed]"
          },
          "metadata": {
            "needs_background": "light"
          }
        }
      ]
    },
    {
      "cell_type": "code",
      "source": [
        "## get new user\n",
        "## new users are those, who have made first purchase in the last 8 weeks\n",
        "df_bottom_80_new = df_bottom_80.groupby('user_id').apply(lambda x: x.iloc[0]).reset_index(drop=True)\n",
        "df_bottom_80_new = df_bottom_80_new[df_bottom_80_new[\"week\"].isin([42,43,44,45,46,47,48,49])].reset_index(drop=True)\n",
        "\n",
        "new_users = list(df_bottom_80_new.user_id.values)\n",
        "print(\"Number of new users are: {}\\n \\n\".format(len(new_users)))\n",
        "\n",
        "df_bottom_80_new_users = df_bottom_80[df_bottom_80[\"user_id\"].isin(new_users)].reset_index(drop=True)\n",
        "order_distribution_across_users(df_bottom_80_new_users, title = \"Percentile Distribution of total_orders across New Users\")"
      ],
      "metadata": {
        "colab": {
          "base_uri": "https://localhost:8080/",
          "height": 564
        },
        "id": "QZ53iXYUcPUu",
        "outputId": "05a50c73-0f0a-477c-87a0-b0f91ed8c108"
      },
      "execution_count": 24,
      "outputs": [
        {
          "output_type": "stream",
          "name": "stdout",
          "text": [
            "Number of new users are: 6146\n",
            " \n",
            "\n"
          ]
        },
        {
          "output_type": "display_data",
          "data": {
            "text/plain": [
              "<Figure size 1152x576 with 1 Axes>"
            ],
            "image/png": "[encoded data removed]"
          },
          "metadata": {
            "needs_background": "light"
          }
        }
      ]
    },
    {
      "cell_type": "code",
      "source": [
        "## get inactive users\n",
        "## inactive users are those, who have not made any purchase in the last 8 weeks\n",
        "df_bottom_80_inactive = df_bottom_80.groupby('user_id').apply(lambda x: x.iloc[-1]).reset_index(drop=True)\n",
        "df_bottom_80_inactive = df_bottom_80_inactive[df_bottom_80_inactive[\"week\"] < 42].reset_index(drop=True)\n",
        "\n",
        "inactive_users = list(df_bottom_80_inactive.user_id.values)\n",
        "print(\"Number of inactive users are: {}\".format(len(inactive_users)))\n",
        "\n",
        "df_bottom_80_inactive_users = df_bottom_80[df_bottom_80[\"user_id\"].isin(inactive_users)].reset_index(drop=True)\n",
        "order_distribution_across_users(df_bottom_80_inactive_users, title = \"Percentile Distribution of total_orders across Inactive Users\")"
      ],
      "metadata": {
        "colab": {
          "base_uri": "https://localhost:8080/",
          "height": 530
        },
        "id": "Ka48XHNHys74",
        "outputId": "787956ae-13ca-4722-ef47-c462f6a3b9b0"
      },
      "execution_count": 25,
      "outputs": [
        {
          "output_type": "stream",
          "name": "stdout",
          "text": [
            "Number of inactive users are: 5281\n"
          ]
        },
        {
          "output_type": "display_data",
          "data": {
            "text/plain": [
              "<Figure size 1152x576 with 1 Axes>"
            ],
            "image/png": "[encoded data removed]"
          },
          "metadata": {
            "needs_background": "light"
          }
        }
      ]
    },
    {
      "cell_type": "code",
      "source": [
        "## light users\n",
        "df_bottom_80_light_users = df_bottom_80[~df_bottom_80[\"user_id\"].isin(new_users+inactive_users)].reset_index(drop=True)\n",
        "\n",
        "light_users = list(df_bottom_80_light_users.user_id.unique())\n",
        "print(\"Number of light users are: {}\".format(len(light_users)))\n",
        "\n",
        "order_distribution_across_users(df_bottom_80_light_users, title = \"Percentile Distribution of total_orders across light Users\")"
      ],
      "metadata": {
        "colab": {
          "base_uri": "https://localhost:8080/",
          "height": 530
        },
        "id": "vgxw1AnBys_E",
        "outputId": "1cf04565-d638-4b7f-ab6f-9933138ad2da"
      },
      "execution_count": 26,
      "outputs": [
        {
          "output_type": "stream",
          "name": "stdout",
          "text": [
            "Number of light users are: 7467\n"
          ]
        },
        {
          "output_type": "display_data",
          "data": {
            "text/plain": [
              "<Figure size 1152x576 with 1 Axes>"
            ],
            "image/png": "[encoded data removed]"
          },
          "metadata": {
            "needs_background": "light"
          }
        }
      ]
    }
  ]
}